{
  "nbformat": 4,
  "nbformat_minor": 0,
  "metadata": {
    "colab": {
      "provenance": [],
      "toc_visible": true,
      "authorship_tag": "ABX9TyO9H+7BeOAuZ/C7DfWRfRl6",
      "include_colab_link": true
    },
    "kernelspec": {
      "name": "python3",
      "display_name": "Python 3"
    },
    "language_info": {
      "name": "python"
    }
  },
  "cells": [
    {
      "cell_type": "markdown",
      "metadata": {
        "id": "view-in-github",
        "colab_type": "text"
      },
      "source": [
        "<a href=\"https://colab.research.google.com/github/PriyanshuJoshi1982/IPL-Prediction/blob/main/CHMtoPDF.ipynb\" target=\"_parent\"><img src=\"https://colab.research.google.com/assets/colab-badge.svg\" alt=\"Open In Colab\"/></a>"
      ]
    },
    {
      "cell_type": "code",
      "execution_count": 1,
      "metadata": {
        "colab": {
          "base_uri": "https://localhost:8080/",
          "height": 383
        },
        "id": "0GAZfiNI7MmC",
        "outputId": "f82bbf56-010f-472c-80f9-03daab56dff3"
      },
      "outputs": [
        {
          "output_type": "error",
          "ename": "ModuleNotFoundError",
          "evalue": "No module named 'chm'",
          "traceback": [
            "\u001b[0;31m---------------------------------------------------------------------------\u001b[0m",
            "\u001b[0;31mModuleNotFoundError\u001b[0m                       Traceback (most recent call last)",
            "\u001b[0;32m/tmp/ipython-input-1639785819.py\u001b[0m in \u001b[0;36m<cell line: 0>\u001b[0;34m()\u001b[0m\n\u001b[0;32m----> 1\u001b[0;31m \u001b[0;32mimport\u001b[0m \u001b[0mchm\u001b[0m\u001b[0;34m\u001b[0m\u001b[0;34m\u001b[0m\u001b[0m\n\u001b[0m\u001b[1;32m      2\u001b[0m \u001b[0;32mimport\u001b[0m \u001b[0mos\u001b[0m\u001b[0;34m\u001b[0m\u001b[0;34m\u001b[0m\u001b[0m\n\u001b[1;32m      3\u001b[0m \u001b[0;32mfrom\u001b[0m \u001b[0mweasyprint\u001b[0m \u001b[0;32mimport\u001b[0m \u001b[0mHTML\u001b[0m\u001b[0;34m\u001b[0m\u001b[0;34m\u001b[0m\u001b[0m\n\u001b[1;32m      4\u001b[0m \u001b[0;32mimport\u001b[0m \u001b[0mtempfile\u001b[0m\u001b[0;34m\u001b[0m\u001b[0;34m\u001b[0m\u001b[0m\n\u001b[1;32m      5\u001b[0m \u001b[0;34m\u001b[0m\u001b[0m\n",
            "\u001b[0;31mModuleNotFoundError\u001b[0m: No module named 'chm'",
            "",
            "\u001b[0;31m---------------------------------------------------------------------------\u001b[0;32m\nNOTE: If your import is failing due to a missing package, you can\nmanually install dependencies using either !pip or !apt.\n\nTo view examples of installing some common dependencies, click the\n\"Open Examples\" button below.\n\u001b[0;31m---------------------------------------------------------------------------\u001b[0m\n"
          ],
          "errorDetails": {
            "actions": [
              {
                "action": "open_url",
                "actionText": "Open Examples",
                "url": "/notebooks/snippets/importing_libraries.ipynb"
              }
            ]
          }
        }
      ],
      "source": [
        "import chm\n",
        "import os\n",
        "from weasyprint import HTML\n",
        "import tempfile\n",
        "\n",
        "def extract_chm(chm_file_path):\n",
        "    \"\"\"Extract HTML content from CHM file.\"\"\"\n",
        "    chm_file = chm.CHMFile(chm_file_path)\n",
        "    extracted_files = []\n",
        "\n",
        "    # Iterate over all files in the CHM archive\n",
        "    for item in chm_file.files:\n",
        "        if item.endswith('.html'):\n",
        "            # Collect HTML files\n",
        "            extracted_files.append(item)\n",
        "\n",
        "    # Extract the HTML content for each file\n",
        "    extracted_html = {}\n",
        "    for html_file in extracted_files:\n",
        "        file_content = chm_file.get_item(html_file)\n",
        "        extracted_html[html_file] = file_content.decode('utf-8')  # Decode content to string\n",
        "\n",
        "    return extracted_html\n",
        "\n",
        "def convert_html_to_pdf(html_content, output_pdf_path):\n",
        "    \"\"\"Convert extracted HTML content to PDF and save it.\"\"\"\n",
        "    HTML(string=html_content).write_pdf(output_pdf_path)\n",
        "\n",
        "def convert_chm_to_pdfs(chm_file_path, output_directory):\n",
        "    \"\"\"Convert a CHM file into multiple PDF files, one per HTML page.\"\"\"\n",
        "    # Extract HTML content from the CHM file\n",
        "    extracted_html = extract_chm(chm_file_path)\n",
        "\n",
        "    # Ensure the output directory exists\n",
        "    os.makedirs(output_directory, exist_ok=True)\n",
        "\n",
        "    # Convert each HTML page to a separate PDF\n",
        "    for html_file, html_content in extracted_html.items():\n",
        "        # Create a valid filename for each HTML page\n",
        "        output_pdf_path = os.path.join(output_directory, f\"{os.path.splitext(html_file)[0]}.pdf\")\n",
        "\n",
        "        # Convert HTML to PDF\n",
        "        convert_html_to_pdf(html_content, output_pdf_path)\n",
        "        print(f\"Converted {html_file} to {output_pdf_path}\")\n",
        "\n",
        "# Example usage\n",
        "if __name__ == '__main__':\n",
        "    chm_file_path = 'path_to_your_file.chm'  # Provide the path to your CHM file\n",
        "    output_directory = 'output_pdfs'         # Specify the output directory for PDF files\n",
        "\n",
        "    convert_chm_to_pdfs(chm_file_path, output_directory)\n",
        "\n"
      ]
    }
  ]
}