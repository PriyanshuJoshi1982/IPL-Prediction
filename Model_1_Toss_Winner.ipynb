{
  "nbformat": 4,
  "nbformat_minor": 0,
  "metadata": {
    "colab": {
      "provenance": [],
      "authorship_tag": "ABX9TyMjtypXFXSQSaPufl54cv73",
      "include_colab_link": true
    },
    "kernelspec": {
      "name": "python3",
      "display_name": "Python 3"
    },
    "language_info": {
      "name": "python"
    }
  },
  "cells": [
    {
      "cell_type": "markdown",
      "metadata": {
        "id": "view-in-github",
        "colab_type": "text"
      },
      "source": [
        "<a href=\"https://colab.research.google.com/github/PriyanshuJoshi1982/IPL-Prediction/blob/main/Model_1_Toss_Winner.ipynb\" target=\"_parent\"><img src=\"https://colab.research.google.com/assets/colab-badge.svg\" alt=\"Open In Colab\"/></a>"
      ]
    },
    {
      "cell_type": "code",
      "execution_count": 9,
      "metadata": {
        "colab": {
          "base_uri": "https://localhost:8080/"
        },
        "id": "IR2F4vfLnhGP",
        "outputId": "9a41984b-8e36-4b76-a1e9-5f036ac6301d"
      },
      "outputs": [
        {
          "output_type": "stream",
          "name": "stdout",
          "text": [
            "                         team1                        team2  \\\n",
            "0  Royal Challengers Bangalore        Kolkata Knight Riders   \n",
            "1              Kings XI Punjab          Chennai Super Kings   \n",
            "2             Delhi Daredevils             Rajasthan Royals   \n",
            "3               Mumbai Indians  Royal Challengers Bangalore   \n",
            "4        Kolkata Knight Riders              Deccan Chargers   \n",
            "\n",
            "                   toss_winner  \n",
            "0  Royal Challengers Bangalore  \n",
            "1          Chennai Super Kings  \n",
            "2             Rajasthan Royals  \n",
            "3               Mumbai Indians  \n",
            "4              Deccan Chargers  \n",
            "Index(['team1', 'team2', 'toss_winner'], dtype='object')\n",
            "Accuracy: 0.182648401826484\n",
            "              precision    recall  f1-score   support\n",
            "\n",
            "           0       0.41      0.64      0.50        33\n",
            "           1       0.00      0.00      0.00         8\n",
            "           2       0.00      0.00      0.00         8\n",
            "           3       0.07      0.09      0.08        11\n",
            "           4       0.00      0.00      0.00         7\n",
            "           5       0.00      0.00      0.00         5\n",
            "           6       0.00      0.00      0.00        15\n",
            "           7       0.00      0.00      0.00         2\n",
            "           8       0.15      0.17      0.16        23\n",
            "           9       0.00      0.00      0.00         2\n",
            "          10       0.13      0.32      0.18        25\n",
            "          11       0.00      0.00      0.00         2\n",
            "          12       0.00      0.00      0.00         5\n",
            "          13       0.00      0.00      0.00        26\n",
            "          14       0.00      0.00      0.00         3\n",
            "          15       0.00      0.00      0.00         1\n",
            "          16       0.07      0.08      0.07        25\n",
            "          17       0.00      0.00      0.00         3\n",
            "          18       0.20      0.27      0.23        15\n",
            "\n",
            "    accuracy                           0.18       219\n",
            "   macro avg       0.05      0.08      0.06       219\n",
            "weighted avg       0.12      0.18      0.14       219\n",
            "\n",
            "Sample Toss Win Probabilities:\n",
            " [[7.66058207e-02 3.89823617e-02 3.85226478e-02 1.31369669e-01\n",
            "  8.19751706e-03 3.11882107e-02 1.19338100e-01 1.18665081e-02\n",
            "  1.54642044e-01 3.19123474e-02 1.54050869e-01 2.14295677e-02\n",
            "  2.63399552e-02 9.14939938e-02 2.60939210e-03 1.25289202e-02\n",
            "  2.70299433e-02 1.08235072e-02 1.10686255e-02]\n",
            " [9.90597718e-02 6.27017285e-02 4.11076076e-02 1.57972145e-01\n",
            "  7.47783972e-03 3.47998607e-02 1.17426932e-01 1.17270326e-02\n",
            "  1.45746345e-01 3.25683077e-02 1.30256036e-01 1.76020220e-02\n",
            "  2.28232055e-02 7.22866031e-02 2.31275032e-03 1.14707307e-02\n",
            "  1.67431543e-02 9.60678966e-03 6.31113827e-03]\n",
            " [1.22775081e-03 1.47299391e-04 2.70989924e-03 5.52030541e-03\n",
            "  2.36155441e-03 2.69853733e-03 2.51557617e-02 2.61623893e-03\n",
            "  4.47267518e-02 6.43662280e-03 1.27773617e-01 2.05327224e-02\n",
            "  2.23437672e-02 1.51613766e-01 7.25130235e-04 5.89453578e-03\n",
            "  2.93180333e-01 6.02795199e-03 2.78307455e-01]\n",
            " [8.67706490e-04 1.56870876e-04 1.64230464e-03 5.51656880e-03\n",
            "  1.54533640e-03 2.93946463e-03 2.29303581e-02 2.58760489e-03\n",
            "  3.87806302e-02 7.65559706e-03 1.26289331e-01 1.83256499e-02\n",
            "  2.78088724e-02 1.68170999e-01 3.58355919e-04 6.49764159e-03\n",
            "  2.69072748e-01 6.04325371e-03 2.92810707e-01]\n",
            " [2.78364789e-03 7.78637650e-04 3.58786596e-03 1.53041849e-02\n",
            "  2.46706748e-03 7.02122154e-03 4.25949757e-02 4.84840284e-03\n",
            "  6.60884232e-02 1.52975646e-02 1.73222546e-01 2.37207290e-02\n",
            "  4.00568636e-02 2.01396497e-01 5.40087020e-04 1.04491503e-02\n",
            "  1.98072576e-01 9.13401496e-03 1.82635544e-01]]\n",
            "Decoded Predictions: ['Kolkata Knight Riders' 'Delhi Daredevils' 'Royal Challengers Bangalore'\n",
            " 'Sunrisers Hyderabad' 'Rajasthan Royals']\n"
          ]
        },
        {
          "output_type": "stream",
          "name": "stderr",
          "text": [
            "/usr/local/lib/python3.11/dist-packages/sklearn/linear_model/_logistic.py:465: ConvergenceWarning: lbfgs failed to converge (status=1):\n",
            "STOP: TOTAL NO. OF ITERATIONS REACHED LIMIT.\n",
            "\n",
            "Increase the number of iterations (max_iter) or scale the data as shown in:\n",
            "    https://scikit-learn.org/stable/modules/preprocessing.html\n",
            "Please also refer to the documentation for alternative solver options:\n",
            "    https://scikit-learn.org/stable/modules/linear_model.html#logistic-regression\n",
            "  n_iter_i = _check_optimize_result(\n",
            "/usr/local/lib/python3.11/dist-packages/sklearn/metrics/_classification.py:1565: UndefinedMetricWarning: Precision is ill-defined and being set to 0.0 in labels with no predicted samples. Use `zero_division` parameter to control this behavior.\n",
            "  _warn_prf(average, modifier, f\"{metric.capitalize()} is\", len(result))\n",
            "/usr/local/lib/python3.11/dist-packages/sklearn/metrics/_classification.py:1565: UndefinedMetricWarning: Precision is ill-defined and being set to 0.0 in labels with no predicted samples. Use `zero_division` parameter to control this behavior.\n",
            "  _warn_prf(average, modifier, f\"{metric.capitalize()} is\", len(result))\n",
            "/usr/local/lib/python3.11/dist-packages/sklearn/metrics/_classification.py:1565: UndefinedMetricWarning: Precision is ill-defined and being set to 0.0 in labels with no predicted samples. Use `zero_division` parameter to control this behavior.\n",
            "  _warn_prf(average, modifier, f\"{metric.capitalize()} is\", len(result))\n"
          ]
        }
      ],
      "source": [
        "import pandas as pd\n",
        "from sklearn.model_selection import train_test_split\n",
        "from sklearn.preprocessing import LabelEncoder\n",
        "from sklearn.linear_model import LogisticRegression\n",
        "from sklearn.metrics import accuracy_score, classification_report\n",
        "\n",
        "# Step 1: Load dataset\n",
        "df = pd.read_csv('/content/M1_Team_Toss_Winner.csv')  # Replace with filename\n",
        "\n",
        "# Step 2: Inspect and prepare data\n",
        "print(df.head())\n",
        "print(df.columns)\n",
        "\n",
        "# Example: encoding categorical features (adjust as per dataset)\n",
        "label_encoders = {}\n",
        "for column in df.select_dtypes(include=['object']).columns:\n",
        "    le = LabelEncoder()\n",
        "    df[column] = le.fit_transform(df[column])\n",
        "    label_encoders[column] = le\n",
        "\n",
        "# Step 3: Select features and target\n",
        "X = df.drop('toss_winner', axis=1)  # Replace with actual target column\n",
        "y = df['toss_winner']               # Replace with actual target column\n",
        "\n",
        "# Step 4: Train-test split\n",
        "X_train, X_test, y_train, y_test = train_test_split(X, y, test_size=0.2, random_state=42)\n",
        "\n",
        "# Step 5: Train a logistic regression model\n",
        "model = LogisticRegression()\n",
        "model.fit(X_train, y_train)\n",
        "\n",
        "# Step 6: Evaluate the model\n",
        "y_pred = model.predict(X_test)\n",
        "print(\"Accuracy:\", accuracy_score(y_test, y_pred))\n",
        "print(classification_report(y_test, y_pred))\n",
        "\n",
        "# Step 7: Predict probability of toss win\n",
        "probs = model.predict_proba(X_test)\n",
        "print(\"Sample Toss Win Probabilities:\\n\", probs[:5])\n",
        "\n",
        "# Optional: map back to team names if encoded\n",
        "if 'toss_winner' in label_encoders:\n",
        "    print(\"Decoded Predictions:\", label_encoders['toss_winner'].inverse_transform(y_pred[:5]))\n"
      ]
    }
  ]
}